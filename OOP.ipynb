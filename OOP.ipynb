{
 "cells": [
  {
   "cell_type": "code",
   "execution_count": 118,
   "metadata": {},
   "outputs": [],
   "source": [
    "class Item:\n",
    "    # Instance level\n",
    "    pay_rate = 0.8 # Pay rate after 20% discount\n",
    "    def __init__(self, name: str, price: float, quantity: int):\n",
    "        \n",
    "        # Rub validations to the received arguments\n",
    "        assert price >= 0, f\"Price {price} must be equal or greater than zero\"\n",
    "        assert quantity >= 0, f\"Quantity {quantity} must be equal or greater than zero\"\n",
    "        \n",
    "        # Assign to self object\n",
    "        self.name = name\n",
    "        self.price = price\n",
    "        self.quantity = quantity\n",
    "        \n",
    "    def calculate_total_price(self):\n",
    "        return self.price * self.quantity\n",
    "    \n",
    "    def apply_discount(self):\n",
    "        return self.price * self.pay_rate"
   ]
  },
  {
   "cell_type": "code",
   "execution_count": 119,
   "metadata": {},
   "outputs": [],
   "source": [
    "item1 = Item(\"Phone\", 100, 5)\n",
    "item2 = Item(\"Laptop\", 1000, 3)"
   ]
  },
  {
   "cell_type": "code",
   "execution_count": 127,
   "metadata": {},
   "outputs": [],
   "source": [
    "# El siguiente código fallaría\n",
    "# item3 = Item(\"Consoles\", \"PlayStation\", 5)"
   ]
  },
  {
   "cell_type": "code",
   "execution_count": 121,
   "metadata": {},
   "outputs": [
    {
     "data": {
      "text/plain": [
       "(500, 3000)"
      ]
     },
     "execution_count": 121,
     "metadata": {},
     "output_type": "execute_result"
    }
   ],
   "source": [
    "item1.calculate_total_price(), item2.calculate_total_price()"
   ]
  },
  {
   "cell_type": "code",
   "execution_count": 122,
   "metadata": {},
   "outputs": [
    {
     "name": "stdout",
     "output_type": "stream",
     "text": [
      "{'__module__': '__main__', 'pay_rate': 0.8, '__init__': <function Item.__init__ at 0x00000223A6FA9C60>, 'calculate_total_price': <function Item.calculate_total_price at 0x00000223A6FA9630>, 'apply_discount': <function Item.apply_discount at 0x00000223A6FAA8C0>, '__dict__': <attribute '__dict__' of 'Item' objects>, '__weakref__': <attribute '__weakref__' of 'Item' objects>, '__doc__': None}\n"
     ]
    }
   ],
   "source": [
    "print(Item.__dict__)"
   ]
  },
  {
   "cell_type": "code",
   "execution_count": 123,
   "metadata": {},
   "outputs": [
    {
     "name": "stdout",
     "output_type": "stream",
     "text": [
      "{'name': 'Phone', 'price': 100, 'quantity': 5}\n"
     ]
    }
   ],
   "source": [
    "print(item1.__dict__)"
   ]
  },
  {
   "cell_type": "code",
   "execution_count": 124,
   "metadata": {},
   "outputs": [
    {
     "data": {
      "text/plain": [
       "0.8"
      ]
     },
     "execution_count": 124,
     "metadata": {},
     "output_type": "execute_result"
    }
   ],
   "source": [
    "item1.pay_rate"
   ]
  },
  {
   "cell_type": "code",
   "execution_count": 125,
   "metadata": {},
   "outputs": [
    {
     "data": {
      "text/plain": [
       "80.0"
      ]
     },
     "execution_count": 125,
     "metadata": {},
     "output_type": "execute_result"
    }
   ],
   "source": [
    "item1.apply_discount()"
   ]
  },
  {
   "cell_type": "code",
   "execution_count": 126,
   "metadata": {},
   "outputs": [
    {
     "data": {
      "text/plain": [
       "700.0"
      ]
     },
     "execution_count": 126,
     "metadata": {},
     "output_type": "execute_result"
    }
   ],
   "source": [
    "item2.pay_rate = 0.7\n",
    "item2.apply_discount()"
   ]
  }
 ],
 "metadata": {
  "kernelspec": {
   "display_name": "Python 3",
   "language": "python",
   "name": "python3"
  },
  "language_info": {
   "codemirror_mode": {
    "name": "ipython",
    "version": 3
   },
   "file_extension": ".py",
   "mimetype": "text/x-python",
   "name": "python",
   "nbconvert_exporter": "python",
   "pygments_lexer": "ipython3",
   "version": "3.10.11"
  },
  "orig_nbformat": 4
 },
 "nbformat": 4,
 "nbformat_minor": 2
}
