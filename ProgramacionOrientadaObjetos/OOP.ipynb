{
 "cells": [
  {
   "cell_type": "code",
   "execution_count": 5,
   "metadata": {},
   "outputs": [
    {
     "ename": "TypeError",
     "evalue": "float() argument must be a string or a real number, not 'NoneType'",
     "output_type": "error",
     "traceback": [
      "\u001b[1;31m---------------------------------------------------------------------------\u001b[0m",
      "\u001b[1;31mTypeError\u001b[0m                                 Traceback (most recent call last)",
      "\u001b[1;32mc:\\Users\\jesus.almansa\\Documents\\pytorch-deep-learning\\ProgramacionOrientadaObjetos\\OOP.ipynb Celda 1\u001b[0m line \u001b[0;36m4\n\u001b[0;32m     <a href='vscode-notebook-cell:/c%3A/Users/jesus.almansa/Documents/pytorch-deep-learning/ProgramacionOrientadaObjetos/OOP.ipynb#W0sZmlsZQ%3D%3D?line=41'>42</a>\u001b[0m     \u001b[39mdef\u001b[39;00m \u001b[39m__repr__\u001b[39m(\u001b[39mself\u001b[39m) \u001b[39m-\u001b[39m\u001b[39m>\u001b[39m \u001b[39mstr\u001b[39m:\n\u001b[0;32m     <a href='vscode-notebook-cell:/c%3A/Users/jesus.almansa/Documents/pytorch-deep-learning/ProgramacionOrientadaObjetos/OOP.ipynb#W0sZmlsZQ%3D%3D?line=42'>43</a>\u001b[0m         \u001b[39mreturn\u001b[39;00m \u001b[39mf\u001b[39m\u001b[39m\"\u001b[39m\u001b[39mItem(\u001b[39m\u001b[39m'\u001b[39m\u001b[39m{\u001b[39;00m\u001b[39mself\u001b[39m\u001b[39m.\u001b[39mname\u001b[39m}\u001b[39;00m\u001b[39m'\u001b[39m\u001b[39m, \u001b[39m\u001b[39m'\u001b[39m\u001b[39m{\u001b[39;00m\u001b[39mself\u001b[39m\u001b[39m.\u001b[39mprice\u001b[39m}\u001b[39;00m\u001b[39m'\u001b[39m\u001b[39m, \u001b[39m\u001b[39m'\u001b[39m\u001b[39m{\u001b[39;00m\u001b[39mself\u001b[39m\u001b[39m.\u001b[39mquantity\u001b[39m}\u001b[39;00m\u001b[39m'\u001b[39m\u001b[39m)\u001b[39m\u001b[39m\"\u001b[39m\n\u001b[1;32m---> <a href='vscode-notebook-cell:/c%3A/Users/jesus.almansa/Documents/pytorch-deep-learning/ProgramacionOrientadaObjetos/OOP.ipynb#W0sZmlsZQ%3D%3D?line=44'>45</a>\u001b[0m Item\u001b[39m.\u001b[39;49minstantiate_from_csv()\n\u001b[0;32m     <a href='vscode-notebook-cell:/c%3A/Users/jesus.almansa/Documents/pytorch-deep-learning/ProgramacionOrientadaObjetos/OOP.ipynb#W0sZmlsZQ%3D%3D?line=45'>46</a>\u001b[0m \u001b[39mprint\u001b[39m(Item\u001b[39m.\u001b[39mall)\n",
      "\u001b[1;32mc:\\Users\\jesus.almansa\\Documents\\pytorch-deep-learning\\ProgramacionOrientadaObjetos\\OOP.ipynb Celda 1\u001b[0m line \u001b[0;36m3\n\u001b[0;32m     <a href='vscode-notebook-cell:/c%3A/Users/jesus.almansa/Documents/pytorch-deep-learning/ProgramacionOrientadaObjetos/OOP.ipynb#W0sZmlsZQ%3D%3D?line=31'>32</a>\u001b[0m     items \u001b[39m=\u001b[39m \u001b[39mlist\u001b[39m(df)\n\u001b[0;32m     <a href='vscode-notebook-cell:/c%3A/Users/jesus.almansa/Documents/pytorch-deep-learning/ProgramacionOrientadaObjetos/OOP.ipynb#W0sZmlsZQ%3D%3D?line=33'>34</a>\u001b[0m \u001b[39mfor\u001b[39;00m item \u001b[39min\u001b[39;00m items:\n\u001b[0;32m     <a href='vscode-notebook-cell:/c%3A/Users/jesus.almansa/Documents/pytorch-deep-learning/ProgramacionOrientadaObjetos/OOP.ipynb#W0sZmlsZQ%3D%3D?line=34'>35</a>\u001b[0m     Item(\n\u001b[0;32m     <a href='vscode-notebook-cell:/c%3A/Users/jesus.almansa/Documents/pytorch-deep-learning/ProgramacionOrientadaObjetos/OOP.ipynb#W0sZmlsZQ%3D%3D?line=35'>36</a>\u001b[0m         name \u001b[39m=\u001b[39m item\u001b[39m.\u001b[39mget(\u001b[39m\"\u001b[39m\u001b[39mname\u001b[39m\u001b[39m\"\u001b[39m),\n\u001b[1;32m---> <a href='vscode-notebook-cell:/c%3A/Users/jesus.almansa/Documents/pytorch-deep-learning/ProgramacionOrientadaObjetos/OOP.ipynb#W0sZmlsZQ%3D%3D?line=36'>37</a>\u001b[0m         price \u001b[39m=\u001b[39m \u001b[39mfloat\u001b[39;49m(item\u001b[39m.\u001b[39;49mget(\u001b[39m\"\u001b[39;49m\u001b[39mprice\u001b[39;49m\u001b[39m\"\u001b[39;49m)),\n\u001b[0;32m     <a href='vscode-notebook-cell:/c%3A/Users/jesus.almansa/Documents/pytorch-deep-learning/ProgramacionOrientadaObjetos/OOP.ipynb#W0sZmlsZQ%3D%3D?line=37'>38</a>\u001b[0m         quantity \u001b[39m=\u001b[39m \u001b[39mint\u001b[39m(item\u001b[39m.\u001b[39mget(\u001b[39m\"\u001b[39m\u001b[39mquantity\u001b[39m\u001b[39m\"\u001b[39m)),\n\u001b[0;32m     <a href='vscode-notebook-cell:/c%3A/Users/jesus.almansa/Documents/pytorch-deep-learning/ProgramacionOrientadaObjetos/OOP.ipynb#W0sZmlsZQ%3D%3D?line=38'>39</a>\u001b[0m     )\n",
      "\u001b[1;31mTypeError\u001b[0m: float() argument must be a string or a real number, not 'NoneType'"
     ]
    }
   ],
   "source": [
    "import csv\n",
    "import pandas as pd\n",
    "class Item:\n",
    "    # Instance level\n",
    "    pay_rate = 0.8 # Pay rate after 20% discount\n",
    "    all = []\n",
    "    def __init__(self, name: str, price: float, quantity: int):\n",
    "        \n",
    "        # Rub validations to the received arguments\n",
    "        assert price >= 0, f\"Price {price} must be equal or greater than zero\"\n",
    "        assert quantity >= 0, f\"Quantity {quantity} must be equal or greater than zero\"\n",
    "        \n",
    "        # Assign to self object\n",
    "        self.name = name\n",
    "        self.price = price\n",
    "        self.quantity = quantity\n",
    "\n",
    "        # Actions to execute\n",
    "        Item.all.append(self)\n",
    "        \n",
    "    def calculate_total_price(self):\n",
    "        return self.price * self.quantity\n",
    "    \n",
    "    def apply_discount(self):\n",
    "        return self.price * self.pay_rate\n",
    "    \n",
    "    #Decorators, to change the behaviour of the method\n",
    "    @classmethod\n",
    "    def instantiate_from_csv(cls):\n",
    "        with open('items.csv', 'r') as f:\n",
    "            df = csv.DictReader(f)\n",
    "            items = list(df)\n",
    "\n",
    "        for item in items:\n",
    "            Item(\n",
    "                name = item.get(\"name\"),\n",
    "                price = float(item.get(\"price\")),\n",
    "                quantity = int(item.get(\"quantity\")),\n",
    "            )\n",
    "        # return pd.read_csv(\"items.csv\")\n",
    "    \n",
    "    def __repr__(self) -> str:\n",
    "        return f\"Item('{self.name}', '{self.price}', '{self.quantity}')\"\n",
    "    \n",
    "Item.instantiate_from_csv()\n",
    "print(Item.all)"
   ]
  },
  {
   "cell_type": "code",
   "execution_count": 12,
   "metadata": {},
   "outputs": [],
   "source": [
    "item1 = Item(\"Phone\", 100, 5)\n",
    "item2 = Item(\"Laptop\", 1000, 3)\n",
    "item3 = Item(\"Cable\", 10, 5)\n",
    "item4 = Item(\"Mouse\", 50, 5)\n",
    "item5 = Item(\"Keyboard\", 75, 5)"
   ]
  },
  {
   "cell_type": "code",
   "execution_count": 13,
   "metadata": {},
   "outputs": [
    {
     "data": {
      "text/plain": [
       "['Phone', 'Laptop', 'Cable', 'Mouse', 'Keyboard']"
      ]
     },
     "execution_count": 13,
     "metadata": {},
     "output_type": "execute_result"
    }
   ],
   "source": [
    "[instance.name for instance in Item.all]"
   ]
  },
  {
   "cell_type": "code",
   "execution_count": 21,
   "metadata": {},
   "outputs": [
    {
     "name": "stdout",
     "output_type": "stream",
     "text": [
      "[Item('Phone', '100', '5'), Item('Laptop', '1000', '3'), Item('Cable', '10', '5'), Item('Mouse', '50', '5'), Item('Keyboard', '75', '5')]\n"
     ]
    }
   ],
   "source": [
    "print(Item.all)"
   ]
  },
  {
   "cell_type": "code",
   "execution_count": 14,
   "metadata": {},
   "outputs": [],
   "source": [
    "# El siguiente código fallaría\n",
    "# item3 = Item(\"Consoles\", \"PlayStation\", 5)"
   ]
  },
  {
   "cell_type": "code",
   "execution_count": 15,
   "metadata": {},
   "outputs": [
    {
     "data": {
      "text/plain": [
       "(500, 3000)"
      ]
     },
     "execution_count": 15,
     "metadata": {},
     "output_type": "execute_result"
    }
   ],
   "source": [
    "item1.calculate_total_price(), item2.calculate_total_price()"
   ]
  },
  {
   "cell_type": "code",
   "execution_count": 16,
   "metadata": {},
   "outputs": [
    {
     "name": "stdout",
     "output_type": "stream",
     "text": [
      "{'__module__': '__main__', 'pay_rate': 0.8, 'all': [Item('Phone', '100', '5'), Item('Laptop', '1000', '3'), Item('Cable', '10', '5'), Item('Mouse', '50', '5'), Item('Keyboard', '75', '5')], '__init__': <function Item.__init__ at 0x00000250E776BD00>, 'calculate_total_price': <function Item.calculate_total_price at 0x00000250E80FCA60>, 'apply_discount': <function Item.apply_discount at 0x00000250E80FCD30>, '__repr__': <function Item.__repr__ at 0x00000250E80FD000>, '__dict__': <attribute '__dict__' of 'Item' objects>, '__weakref__': <attribute '__weakref__' of 'Item' objects>, '__doc__': None}\n"
     ]
    }
   ],
   "source": [
    "print(Item.__dict__)"
   ]
  },
  {
   "cell_type": "code",
   "execution_count": 17,
   "metadata": {},
   "outputs": [
    {
     "name": "stdout",
     "output_type": "stream",
     "text": [
      "{'name': 'Phone', 'price': 100, 'quantity': 5}\n"
     ]
    }
   ],
   "source": [
    "print(item1.__dict__)"
   ]
  },
  {
   "cell_type": "code",
   "execution_count": 18,
   "metadata": {},
   "outputs": [
    {
     "data": {
      "text/plain": [
       "0.8"
      ]
     },
     "execution_count": 18,
     "metadata": {},
     "output_type": "execute_result"
    }
   ],
   "source": [
    "item1.pay_rate"
   ]
  },
  {
   "cell_type": "code",
   "execution_count": 19,
   "metadata": {},
   "outputs": [
    {
     "data": {
      "text/plain": [
       "80.0"
      ]
     },
     "execution_count": 19,
     "metadata": {},
     "output_type": "execute_result"
    }
   ],
   "source": [
    "item1.apply_discount()"
   ]
  },
  {
   "cell_type": "code",
   "execution_count": 20,
   "metadata": {},
   "outputs": [
    {
     "data": {
      "text/plain": [
       "700.0"
      ]
     },
     "execution_count": 20,
     "metadata": {},
     "output_type": "execute_result"
    }
   ],
   "source": [
    "item2.pay_rate = 0.7\n",
    "item2.apply_discount()"
   ]
  }
 ],
 "metadata": {
  "kernelspec": {
   "display_name": "Python 3",
   "language": "python",
   "name": "python3"
  },
  "language_info": {
   "codemirror_mode": {
    "name": "ipython",
    "version": 3
   },
   "file_extension": ".py",
   "mimetype": "text/x-python",
   "name": "python",
   "nbconvert_exporter": "python",
   "pygments_lexer": "ipython3",
   "version": "3.10.11"
  },
  "orig_nbformat": 4
 },
 "nbformat": 4,
 "nbformat_minor": 2
}
